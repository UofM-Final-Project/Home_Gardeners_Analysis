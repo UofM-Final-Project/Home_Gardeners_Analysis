{
 "cells": [
  {
   "cell_type": "markdown",
   "metadata": {},
   "source": [
    "### 1. API Call and JSON File Creation\n",
    "\n",
    "This calls the RCC API and creates the file we use for parsing.  This does not update the DB.\n",
    "\n",
    "**Inputs**\n",
    "1. User prompt for ALL or other value.  If ALL, full 7 county, 20 year data is run.  If other, 2020 onward and 2 counties are used for a smaller dataset.\n",
    "\n",
    "**Outputs** \n",
    "1.  **rcc_data.json** is the JSON file from the API for processing in the next script\n",
    "2. **params_list.json** is the JSON file with the parameters used for the API call.  This is used in the next script as well."
   ]
  },
  {
   "cell_type": "code",
   "execution_count": 5,
   "metadata": {},
   "outputs": [
    {
     "name": "stdout",
     "output_type": "stream",
     "text": [
      "Weather data found.\n"
     ]
    }
   ],
   "source": [
    "%run ./rccacis_station_info_api_data_pull.ipynb"
   ]
  },
  {
   "cell_type": "markdown",
   "metadata": {},
   "source": [
    "### 2. Observation and Station data parsing, cleaning and calculations - Creates DB tables and CSV files\n",
    "\n",
    "THIS IS A LONG RUNNING SCRIPT IF THE FULL DATASET IS USED.  IF RUN, THE DB WILL BE UPDATED WITH THE NEW DATASET AND OLD DATA WILL BE REMOVED FROM station, station_yearly, observation TABLES\n",
    "\n",
    "**Inputs**  \n",
    "1. **rcc_data.json** see previous script\n",
    "2. **params_list.json** see previous script\n",
    "\n",
    "**Outputs**\n",
    "1. **CSV Files** - station_data.csv, observation_data.csv, station_yearly_data.csv\n",
    "2. **PostgreSQL DB Tables/Views** - station, observation, station_yearly, v_days_until_freeze_calcs_0_to_180_days"
   ]
  },
  {
   "cell_type": "markdown",
   "metadata": {},
   "source": [
    "# **BE VERY CAREFUL WHEN DECIDING TO RUN THIS NEXT SCRIPT**"
   ]
  },
  {
   "cell_type": "code",
   "execution_count": null,
   "metadata": {},
   "outputs": [],
   "source": [
    "## THIS IS A LONG RUNNING SCRIPT IF THE FULL DATASET IS USED.  IF RUN, THE DB WILL BE UPDATED WITH THE NEW DATASET AND OLD DATA WILL BE REMOVED FROM\n",
    "## station, station_yearly, observation TABLES\n",
    "\n",
    "%run ./parse_json_file.ipynb"
   ]
  },
  {
   "cell_type": "markdown",
   "metadata": {},
   "source": [
    "### 3.  County Lookup table and County Metrics table created\n",
    "\n",
    "**Inputs**  \n",
    "1. **mn_county_rev.csv** Lookup table for county code and county name for all Minnesota Counties\n",
    "\n",
    "**Outputs**\n",
    "1. **CSV Files** - county_lookup.csv, county_metrics_data.csv,  county_yearly_metrics_data.csv\n",
    "2. **PostgreSQL DB Tables/Views** - county_lookup, county_metrics, county_yearly_metrics"
   ]
  },
  {
   "cell_type": "code",
   "execution_count": 4,
   "metadata": {},
   "outputs": [],
   "source": [
    "# This creates the county_lookup and county_metrics table.  There needs to be data in the DB for stations and observation data for this to work properly.\n",
    "# This requires the .csv file ../Resources/mn_county_rev.csf available in github\n",
    "%run ./county_processing.ipynb"
   ]
  }
 ],
 "metadata": {
  "kernelspec": {
   "display_name": "PythonData",
   "language": "python",
   "name": "pythondata"
  },
  "language_info": {
   "codemirror_mode": {
    "name": "ipython",
    "version": 3
   },
   "file_extension": ".py",
   "mimetype": "text/x-python",
   "name": "python",
   "nbconvert_exporter": "python",
   "pygments_lexer": "ipython3",
   "version": "3.7.11"
  }
 },
 "nbformat": 4,
 "nbformat_minor": 2
}
