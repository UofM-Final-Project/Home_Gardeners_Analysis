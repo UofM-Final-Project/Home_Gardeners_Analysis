{
 "cells": [
  {
   "cell_type": "markdown",
   "metadata": {},
   "source": [
    "## Call API to gather weather data for our counties and timeframe of interest\n",
    "\n",
    "API description available here http://www.rcc-acis.org/docs_webservices.html"
   ]
  },
  {
   "cell_type": "code",
   "execution_count": 8,
   "metadata": {},
   "outputs": [],
   "source": [
    "# import dependencies\n",
    "import requests\n",
    "import json\n"
   ]
  },
  {
   "cell_type": "code",
   "execution_count": 9,
   "metadata": {},
   "outputs": [],
   "source": [
    "# Prompt user to see how much data to run.  Testing with a smaller subset is faster.\n",
    "userInput = input(\"Enter ALL to run full 20 years, 7 counties.  If other entry, the data will be a subset better for testing - 2 counties, 2.5 years.\")"
   ]
  },
  {
   "cell_type": "code",
   "execution_count": 10,
   "metadata": {},
   "outputs": [
    {
     "name": "stdout",
     "output_type": "stream",
     "text": [
      "Weather data found.\n"
     ]
    }
   ],
   "source": [
    "if userInput == \"ALL\":\n",
    "    # This is the Twin Cities of Minnesota 7-county metro\n",
    "    counties = \"27053,27037,27019,27139,27123,27163,27003\"\n",
    "    sdate = \"2002-01-01\"\n",
    "else:\n",
    "    # 2 counties in the metro and only back to 2020 for the data pull for a test dataset\n",
    "    counties = \"27053,27037\"\n",
    "    sdate = \"2020-01-01\"\n",
    "\n",
    "edate = \"2022-05-16\"\n",
    "meta = \"name,state,sids,sid_dates,ll,elev,uid,county,climdiv,valid_daterange\"\n",
    "elems = \"maxt,mint,pcpn,snow,snwd,avgt\"\n",
    "output = \"json\"\n",
    "\n",
    "# Limit dataset returned for practice\n",
    "url = f\"http://data.rcc-acis.org/MultiStnData?county={counties}&sdate={sdate}&edate={edate}&meta={meta}&elems={elems}&output={output}\"\n",
    "\n",
    "# get() Retrieves data from a web source.\n",
    "weather_response = requests.get(url)\n",
    "\n",
    "\n",
    "if weather_response.status_code == 200:\n",
    "    print(f\"Weather data found.\")\n",
    "    weather_json = weather_response.json()\n",
    "\n",
    "\n",
    "else:\n",
    "    print(f\"Weather data  not found.\")\n"
   ]
  },
  {
   "cell_type": "code",
   "execution_count": 11,
   "metadata": {},
   "outputs": [],
   "source": [
    "# Save parameters = We'll need to know the start and end date for our parsing\n",
    "paramsDict = {}\n",
    "paramsDict = {\"counties\" :[counties], \"sdate\": sdate, \"edate\":edate, \"meta\": meta, \"elems\":elems,\"output\":output, \"url\": url}\n",
    "with open(\"../resources/params_list.json\", \"w\") as i :\n",
    "    json.dump(paramsDict, i)"
   ]
  },
  {
   "cell_type": "code",
   "execution_count": 12,
   "metadata": {},
   "outputs": [
    {
     "data": {
      "text/plain": [
       "'http://data.rcc-acis.org/MultiStnData?county=27053,27037,27019,27139,27123,27163,27003&sdate=2002-01-01&edate=2022-05-16&meta=name,state,sids,sid_dates,ll,elev,uid,county,climdiv,valid_daterange&elems=maxt,mint,pcpn,snow,snwd,avgt&output=json'"
      ]
     },
     "execution_count": 12,
     "metadata": {},
     "output_type": "execute_result"
    }
   ],
   "source": [
    "# Print the url to view what was passed\n",
    "url"
   ]
  },
  {
   "cell_type": "code",
   "execution_count": 13,
   "metadata": {},
   "outputs": [
    {
     "data": {
      "text/plain": [
       "439"
      ]
     },
     "execution_count": 13,
     "metadata": {},
     "output_type": "execute_result"
    }
   ],
   "source": [
    "# See how many stations were included\n",
    "counter = 0\n",
    "for i in weather_json['data']:\n",
    "    counter = counter + 1\n",
    "\n",
    "counter"
   ]
  },
  {
   "cell_type": "code",
   "execution_count": 14,
   "metadata": {},
   "outputs": [],
   "source": [
    "# write to a file\n",
    "with open(\"../Resources/rcc_data.json\", \"w\") as i :\n",
    "   json.dump(weather_json, i)"
   ]
  }
 ],
 "metadata": {
  "interpreter": {
   "hash": "79cce83be72e55c1187b298660b26fa831a7f54746f9fd5c4205698cac5dca1a"
  },
  "kernelspec": {
   "display_name": "Python 3.7.12 ('PythonData')",
   "language": "python",
   "name": "python3"
  },
  "language_info": {
   "codemirror_mode": {
    "name": "ipython",
    "version": 3
   },
   "file_extension": ".py",
   "mimetype": "text/x-python",
   "name": "python",
   "nbconvert_exporter": "python",
   "pygments_lexer": "ipython3",
   "version": "3.7.12"
  },
  "orig_nbformat": 4
 },
 "nbformat": 4,
 "nbformat_minor": 2
}
