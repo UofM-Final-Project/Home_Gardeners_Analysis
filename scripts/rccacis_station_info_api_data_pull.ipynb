{
 "cells": [
  {
   "cell_type": "code",
   "execution_count": 1,
   "metadata": {},
   "outputs": [],
   "source": [
    "# import dependencies\n",
    "import requests\n",
    "import json\n",
    "from pprint import pprint\n"
   ]
  },
  {
   "cell_type": "code",
   "execution_count": 2,
   "metadata": {},
   "outputs": [
    {
     "name": "stdout",
     "output_type": "stream",
     "text": [
      "Weather data found.\n"
     ]
    }
   ],
   "source": [
    "#url = \"http://data.rcc-acis.org/MultiStnData?county=27053,27037,27019,27139,27123,27163,27003&sdate=2021-01-01&edate=2021-12-31&meta=name,state,sids,sid_dates,ll,elev,uid,county,climdiv,valid_daterange&elems=maxt,mint,pcpn&output=json\"\n",
    "\n",
    "# Fully county list = 27053,27037,27019,27139,27123,27163,27003\n",
    "counties = \"27053,27037,27019,27139,27123,27163,27003\"\n",
    "#counties = \"27053,27037\"\n",
    "sdate = \"2002-01-01\"\n",
    "# sdate = \"2020-01-01\"\n",
    "edate = \"2022-05-16\"\n",
    "meta = \"name,state,sids,sid_dates,ll,elev,uid,county,climdiv,valid_daterange\"\n",
    "elems = \"maxt,mint,pcpn,snow,snwd,avgt\"\n",
    "output = \"json\"\n",
    "\n",
    "# Limit dataset returned for practice\n",
    "url = f\"http://data.rcc-acis.org/MultiStnData?county={counties}&sdate={sdate}&edate={edate}&meta={meta}&elems={elems}&output={output}\"\n",
    "\n",
    "# get() Retrieves data from a web source.\n",
    "weather_response = requests.get(url)\n",
    "\n",
    "\n",
    "if weather_response.status_code == 200:\n",
    "    print(f\"Weather data found.\")\n",
    "    weather_json = weather_response.json()\n",
    "\n",
    "\n",
    "else:\n",
    "    print(f\"Weather data  not found.\")\n"
   ]
  },
  {
   "cell_type": "code",
   "execution_count": 3,
   "metadata": {},
   "outputs": [],
   "source": [
    "# Save parameters = We'll need to know the start and end date for our parsing\n",
    "paramsDict = {}\n",
    "paramsDict = {\"counties\" :[counties], \"sdate\": sdate, \"edate\":edate, \"meta\": meta, \"elems\":elems,\"output\":output, \"url\": url}\n",
    "with open(\"../resources/params_list.json\", \"w\") as i :\n",
    "    json.dump(paramsDict, i)"
   ]
  },
  {
   "cell_type": "code",
   "execution_count": 4,
   "metadata": {},
   "outputs": [
    {
     "data": {
      "text/plain": [
       "'http://data.rcc-acis.org/MultiStnData?county=27053,27037&sdate=2020-01-01&edate=2022-05-16&meta=name,state,sids,sid_dates,ll,elev,uid,county,climdiv,valid_daterange&elems=maxt,mint,pcpn,snow,snwd,avgt&output=json'"
      ]
     },
     "execution_count": 4,
     "metadata": {},
     "output_type": "execute_result"
    }
   ],
   "source": [
    "# Print the url to view what was passed\n",
    "url"
   ]
  },
  {
   "cell_type": "code",
   "execution_count": 5,
   "metadata": {},
   "outputs": [],
   "source": [
    "# # look here for example = in Module 6  \\World_Weather_Analysis\\WeatherPy.ipynb\n",
    "# weather_response.content\n",
    "# weather_json"
   ]
  },
  {
   "cell_type": "code",
   "execution_count": 6,
   "metadata": {},
   "outputs": [],
   "source": [
    "# pprint(weather_json)"
   ]
  },
  {
   "cell_type": "code",
   "execution_count": 7,
   "metadata": {},
   "outputs": [
    {
     "data": {
      "text/plain": [
       "151"
      ]
     },
     "execution_count": 7,
     "metadata": {},
     "output_type": "execute_result"
    }
   ],
   "source": [
    "# See how many stations were included\n",
    "counter = 0\n",
    "for i in weather_json['data']:\n",
    "    counter = counter + 1\n",
    "\n",
    "counter"
   ]
  },
  {
   "cell_type": "code",
   "execution_count": 8,
   "metadata": {},
   "outputs": [],
   "source": [
    "# Loop through the results and create dataframes for stations and for weather data.  \n",
    "# We might need to grab one county at a time if the data is too large"
   ]
  },
  {
   "cell_type": "code",
   "execution_count": 9,
   "metadata": {},
   "outputs": [],
   "source": [
    "# write to a file\n",
    "with open(\"../resources/example_data.json\", \"w\") as i :\n",
    "   json.dump(weather_json, i)"
   ]
  }
 ],
 "metadata": {
  "interpreter": {
   "hash": "79cce83be72e55c1187b298660b26fa831a7f54746f9fd5c4205698cac5dca1a"
  },
  "kernelspec": {
   "display_name": "Python 3.7.12 ('PythonData')",
   "language": "python",
   "name": "python3"
  },
  "language_info": {
   "codemirror_mode": {
    "name": "ipython",
    "version": 3
   },
   "file_extension": ".py",
   "mimetype": "text/x-python",
   "name": "python",
   "nbconvert_exporter": "python",
   "pygments_lexer": "ipython3",
   "version": "3.7.12"
  },
  "orig_nbformat": 4
 },
 "nbformat": 4,
 "nbformat_minor": 2
}
