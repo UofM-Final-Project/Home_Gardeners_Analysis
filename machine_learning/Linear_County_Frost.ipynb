{
 "cells": [
  {
   "cell_type": "code",
   "execution_count": 91,
   "metadata": {},
   "outputs": [],
   "source": [
    "# Import our dependencies\n",
    "from sklearn import linear_model\n",
    "import pandas as pd\n",
    "import numpy as np\n",
    "from pathlib import Path\n",
    "import matplotlib.pyplot as plt\n",
    "from sklearn.linear_model import LinearRegression"
   ]
  },
  {
   "cell_type": "markdown",
   "metadata": {},
   "source": [
    "This notebook creates several models to visualize and then test model's coefficient to show accuracy."
   ]
  },
  {
   "cell_type": "code",
   "execution_count": 92,
   "metadata": {},
   "outputs": [
    {
     "data": {
      "text/html": [
       "<div>\n",
       "<style scoped>\n",
       "    .dataframe tbody tr th:only-of-type {\n",
       "        vertical-align: middle;\n",
       "    }\n",
       "\n",
       "    .dataframe tbody tr th {\n",
       "        vertical-align: top;\n",
       "    }\n",
       "\n",
       "    .dataframe thead th {\n",
       "        text-align: right;\n",
       "    }\n",
       "</style>\n",
       "<table border=\"1\" class=\"dataframe\">\n",
       "  <thead>\n",
       "    <tr style=\"text-align: right;\">\n",
       "      <th></th>\n",
       "      <th>county</th>\n",
       "      <th>obs_year</th>\n",
       "      <th>county_name</th>\n",
       "      <th>station_count</th>\n",
       "      <th>coldest_day</th>\n",
       "      <th>coldest_dayofyear</th>\n",
       "      <th>hottest_day</th>\n",
       "      <th>hottest_dayofyear</th>\n",
       "      <th>last_freeze_date</th>\n",
       "      <th>last_freeze_dayofyear</th>\n",
       "      <th>first_freeze_date</th>\n",
       "      <th>first_freeze_dayofyear</th>\n",
       "      <th>observations_recorded_april_to_may</th>\n",
       "    </tr>\n",
       "  </thead>\n",
       "  <tbody>\n",
       "    <tr>\n",
       "      <th>0</th>\n",
       "      <td>27003</td>\n",
       "      <td>2002</td>\n",
       "      <td>Anoka County</td>\n",
       "      <td>4</td>\n",
       "      <td>-8.0</td>\n",
       "      <td>62.0</td>\n",
       "      <td>92.0</td>\n",
       "      <td>181.0</td>\n",
       "      <td>2002-05-20</td>\n",
       "      <td>140.0</td>\n",
       "      <td>2002-10-07</td>\n",
       "      <td>280.0</td>\n",
       "      <td>89.0</td>\n",
       "    </tr>\n",
       "    <tr>\n",
       "      <th>1</th>\n",
       "      <td>27003</td>\n",
       "      <td>2003</td>\n",
       "      <td>Anoka County</td>\n",
       "      <td>4</td>\n",
       "      <td>-19.0</td>\n",
       "      <td>38.0</td>\n",
       "      <td>96.0</td>\n",
       "      <td>236.0</td>\n",
       "      <td>2003-04-22</td>\n",
       "      <td>112.0</td>\n",
       "      <td>2003-09-29</td>\n",
       "      <td>272.0</td>\n",
       "      <td>104.0</td>\n",
       "    </tr>\n",
       "    <tr>\n",
       "      <th>2</th>\n",
       "      <td>27003</td>\n",
       "      <td>2004</td>\n",
       "      <td>Anoka County</td>\n",
       "      <td>4</td>\n",
       "      <td>-29.0</td>\n",
       "      <td>30.0</td>\n",
       "      <td>96.0</td>\n",
       "      <td>203.0</td>\n",
       "      <td>2004-05-15</td>\n",
       "      <td>136.0</td>\n",
       "      <td>2004-09-07</td>\n",
       "      <td>251.0</td>\n",
       "      <td>181.0</td>\n",
       "    </tr>\n",
       "    <tr>\n",
       "      <th>3</th>\n",
       "      <td>27003</td>\n",
       "      <td>2005</td>\n",
       "      <td>Anoka County</td>\n",
       "      <td>4</td>\n",
       "      <td>-22.0</td>\n",
       "      <td>17.0</td>\n",
       "      <td>96.0</td>\n",
       "      <td>174.0</td>\n",
       "      <td>2005-05-16</td>\n",
       "      <td>136.0</td>\n",
       "      <td>2005-10-07</td>\n",
       "      <td>280.0</td>\n",
       "      <td>182.0</td>\n",
       "    </tr>\n",
       "    <tr>\n",
       "      <th>4</th>\n",
       "      <td>27003</td>\n",
       "      <td>2006</td>\n",
       "      <td>Anoka County</td>\n",
       "      <td>4</td>\n",
       "      <td>-17.0</td>\n",
       "      <td>49.0</td>\n",
       "      <td>100.0</td>\n",
       "      <td>212.0</td>\n",
       "      <td>2006-05-22</td>\n",
       "      <td>142.0</td>\n",
       "      <td>2006-10-05</td>\n",
       "      <td>278.0</td>\n",
       "      <td>92.0</td>\n",
       "    </tr>\n",
       "    <tr>\n",
       "      <th>...</th>\n",
       "      <td>...</td>\n",
       "      <td>...</td>\n",
       "      <td>...</td>\n",
       "      <td>...</td>\n",
       "      <td>...</td>\n",
       "      <td>...</td>\n",
       "      <td>...</td>\n",
       "      <td>...</td>\n",
       "      <td>...</td>\n",
       "      <td>...</td>\n",
       "      <td>...</td>\n",
       "      <td>...</td>\n",
       "      <td>...</td>\n",
       "    </tr>\n",
       "    <tr>\n",
       "      <th>142</th>\n",
       "      <td>27163</td>\n",
       "      <td>2018</td>\n",
       "      <td>Washington County</td>\n",
       "      <td>2</td>\n",
       "      <td>-19.0</td>\n",
       "      <td>6.0</td>\n",
       "      <td>97.0</td>\n",
       "      <td>149.0</td>\n",
       "      <td>2018-04-25</td>\n",
       "      <td>115.0</td>\n",
       "      <td>2018-10-12</td>\n",
       "      <td>285.0</td>\n",
       "      <td>91.0</td>\n",
       "    </tr>\n",
       "    <tr>\n",
       "      <th>143</th>\n",
       "      <td>27163</td>\n",
       "      <td>2019</td>\n",
       "      <td>Washington County</td>\n",
       "      <td>2</td>\n",
       "      <td>-34.0</td>\n",
       "      <td>32.0</td>\n",
       "      <td>90.0</td>\n",
       "      <td>201.0</td>\n",
       "      <td>2019-05-03</td>\n",
       "      <td>123.0</td>\n",
       "      <td>2019-10-13</td>\n",
       "      <td>286.0</td>\n",
       "      <td>91.0</td>\n",
       "    </tr>\n",
       "    <tr>\n",
       "      <th>144</th>\n",
       "      <td>27163</td>\n",
       "      <td>2020</td>\n",
       "      <td>Washington County</td>\n",
       "      <td>2</td>\n",
       "      <td>-17.0</td>\n",
       "      <td>45.0</td>\n",
       "      <td>93.0</td>\n",
       "      <td>161.0</td>\n",
       "      <td>2020-05-12</td>\n",
       "      <td>133.0</td>\n",
       "      <td>2020-10-04</td>\n",
       "      <td>278.0</td>\n",
       "      <td>82.0</td>\n",
       "    </tr>\n",
       "    <tr>\n",
       "      <th>145</th>\n",
       "      <td>27163</td>\n",
       "      <td>2021</td>\n",
       "      <td>Washington County</td>\n",
       "      <td>2</td>\n",
       "      <td>-26.0</td>\n",
       "      <td>46.0</td>\n",
       "      <td>95.0</td>\n",
       "      <td>157.0</td>\n",
       "      <td>2021-05-11</td>\n",
       "      <td>131.0</td>\n",
       "      <td>2021-10-22</td>\n",
       "      <td>295.0</td>\n",
       "      <td>89.0</td>\n",
       "    </tr>\n",
       "    <tr>\n",
       "      <th>146</th>\n",
       "      <td>27163</td>\n",
       "      <td>2022</td>\n",
       "      <td>Washington County</td>\n",
       "      <td>2</td>\n",
       "      <td>-24.0</td>\n",
       "      <td>7.0</td>\n",
       "      <td>91.0</td>\n",
       "      <td>133.0</td>\n",
       "      <td>2022-04-30</td>\n",
       "      <td>120.0</td>\n",
       "      <td>NaN</td>\n",
       "      <td>NaN</td>\n",
       "      <td>46.0</td>\n",
       "    </tr>\n",
       "  </tbody>\n",
       "</table>\n",
       "<p>147 rows × 13 columns</p>\n",
       "</div>"
      ],
      "text/plain": [
       "     county  obs_year        county_name  station_count  coldest_day  \\\n",
       "0     27003      2002       Anoka County              4         -8.0   \n",
       "1     27003      2003       Anoka County              4        -19.0   \n",
       "2     27003      2004       Anoka County              4        -29.0   \n",
       "3     27003      2005       Anoka County              4        -22.0   \n",
       "4     27003      2006       Anoka County              4        -17.0   \n",
       "..      ...       ...                ...            ...          ...   \n",
       "142   27163      2018  Washington County              2        -19.0   \n",
       "143   27163      2019  Washington County              2        -34.0   \n",
       "144   27163      2020  Washington County              2        -17.0   \n",
       "145   27163      2021  Washington County              2        -26.0   \n",
       "146   27163      2022  Washington County              2        -24.0   \n",
       "\n",
       "     coldest_dayofyear  hottest_day  hottest_dayofyear last_freeze_date  \\\n",
       "0                 62.0         92.0              181.0       2002-05-20   \n",
       "1                 38.0         96.0              236.0       2003-04-22   \n",
       "2                 30.0         96.0              203.0       2004-05-15   \n",
       "3                 17.0         96.0              174.0       2005-05-16   \n",
       "4                 49.0        100.0              212.0       2006-05-22   \n",
       "..                 ...          ...                ...              ...   \n",
       "142                6.0         97.0              149.0       2018-04-25   \n",
       "143               32.0         90.0              201.0       2019-05-03   \n",
       "144               45.0         93.0              161.0       2020-05-12   \n",
       "145               46.0         95.0              157.0       2021-05-11   \n",
       "146                7.0         91.0              133.0       2022-04-30   \n",
       "\n",
       "     last_freeze_dayofyear first_freeze_date  first_freeze_dayofyear  \\\n",
       "0                    140.0        2002-10-07                   280.0   \n",
       "1                    112.0        2003-09-29                   272.0   \n",
       "2                    136.0        2004-09-07                   251.0   \n",
       "3                    136.0        2005-10-07                   280.0   \n",
       "4                    142.0        2006-10-05                   278.0   \n",
       "..                     ...               ...                     ...   \n",
       "142                  115.0        2018-10-12                   285.0   \n",
       "143                  123.0        2019-10-13                   286.0   \n",
       "144                  133.0        2020-10-04                   278.0   \n",
       "145                  131.0        2021-10-22                   295.0   \n",
       "146                  120.0               NaN                     NaN   \n",
       "\n",
       "     observations_recorded_april_to_may  \n",
       "0                                  89.0  \n",
       "1                                 104.0  \n",
       "2                                 181.0  \n",
       "3                                 182.0  \n",
       "4                                  92.0  \n",
       "..                                  ...  \n",
       "142                                91.0  \n",
       "143                                91.0  \n",
       "144                                82.0  \n",
       "145                                89.0  \n",
       "146                                46.0  \n",
       "\n",
       "[147 rows x 13 columns]"
      ]
     },
     "execution_count": 92,
     "metadata": {},
     "output_type": "execute_result"
    }
   ],
   "source": [
    "# Reads in yearly metrics csv\n",
    "# *7 total counties\n",
    "File_path = \"../resources/county_yearly_metrics_data.csv\"\n",
    "county_yearly_df = pd.read_csv(File_path)\n",
    "county_yearly_df"
   ]
  },
  {
   "cell_type": "code",
   "execution_count": 93,
   "metadata": {},
   "outputs": [
    {
     "data": {
      "text/html": [
       "<div>\n",
       "<style scoped>\n",
       "    .dataframe tbody tr th:only-of-type {\n",
       "        vertical-align: middle;\n",
       "    }\n",
       "\n",
       "    .dataframe tbody tr th {\n",
       "        vertical-align: top;\n",
       "    }\n",
       "\n",
       "    .dataframe thead th {\n",
       "        text-align: right;\n",
       "    }\n",
       "</style>\n",
       "<table border=\"1\" class=\"dataframe\">\n",
       "  <thead>\n",
       "    <tr style=\"text-align: right;\">\n",
       "      <th></th>\n",
       "      <th>county_name</th>\n",
       "      <th>obs_year</th>\n",
       "      <th>last_freeze_dayofyear</th>\n",
       "    </tr>\n",
       "  </thead>\n",
       "  <tbody>\n",
       "    <tr>\n",
       "      <th>0</th>\n",
       "      <td>Anoka County</td>\n",
       "      <td>2002</td>\n",
       "      <td>140.0</td>\n",
       "    </tr>\n",
       "    <tr>\n",
       "      <th>1</th>\n",
       "      <td>Anoka County</td>\n",
       "      <td>2003</td>\n",
       "      <td>112.0</td>\n",
       "    </tr>\n",
       "    <tr>\n",
       "      <th>2</th>\n",
       "      <td>Anoka County</td>\n",
       "      <td>2004</td>\n",
       "      <td>136.0</td>\n",
       "    </tr>\n",
       "    <tr>\n",
       "      <th>3</th>\n",
       "      <td>Anoka County</td>\n",
       "      <td>2005</td>\n",
       "      <td>136.0</td>\n",
       "    </tr>\n",
       "    <tr>\n",
       "      <th>4</th>\n",
       "      <td>Anoka County</td>\n",
       "      <td>2006</td>\n",
       "      <td>142.0</td>\n",
       "    </tr>\n",
       "    <tr>\n",
       "      <th>...</th>\n",
       "      <td>...</td>\n",
       "      <td>...</td>\n",
       "      <td>...</td>\n",
       "    </tr>\n",
       "    <tr>\n",
       "      <th>142</th>\n",
       "      <td>Washington County</td>\n",
       "      <td>2018</td>\n",
       "      <td>115.0</td>\n",
       "    </tr>\n",
       "    <tr>\n",
       "      <th>143</th>\n",
       "      <td>Washington County</td>\n",
       "      <td>2019</td>\n",
       "      <td>123.0</td>\n",
       "    </tr>\n",
       "    <tr>\n",
       "      <th>144</th>\n",
       "      <td>Washington County</td>\n",
       "      <td>2020</td>\n",
       "      <td>133.0</td>\n",
       "    </tr>\n",
       "    <tr>\n",
       "      <th>145</th>\n",
       "      <td>Washington County</td>\n",
       "      <td>2021</td>\n",
       "      <td>131.0</td>\n",
       "    </tr>\n",
       "    <tr>\n",
       "      <th>146</th>\n",
       "      <td>Washington County</td>\n",
       "      <td>2022</td>\n",
       "      <td>120.0</td>\n",
       "    </tr>\n",
       "  </tbody>\n",
       "</table>\n",
       "<p>147 rows × 3 columns</p>\n",
       "</div>"
      ],
      "text/plain": [
       "           county_name  obs_year  last_freeze_dayofyear\n",
       "0         Anoka County      2002                  140.0\n",
       "1         Anoka County      2003                  112.0\n",
       "2         Anoka County      2004                  136.0\n",
       "3         Anoka County      2005                  136.0\n",
       "4         Anoka County      2006                  142.0\n",
       "..                 ...       ...                    ...\n",
       "142  Washington County      2018                  115.0\n",
       "143  Washington County      2019                  123.0\n",
       "144  Washington County      2020                  133.0\n",
       "145  Washington County      2021                  131.0\n",
       "146  Washington County      2022                  120.0\n",
       "\n",
       "[147 rows x 3 columns]"
      ]
     },
     "execution_count": 93,
     "metadata": {},
     "output_type": "execute_result"
    }
   ],
   "source": [
    "Frost_day_df = county_yearly_df[[\"county_name\", \"obs_year\", \"last_freeze_dayofyear\"]].copy()\n",
    "Frost_day_df"
   ]
  },
  {
   "cell_type": "code",
   "execution_count": 94,
   "metadata": {},
   "outputs": [],
   "source": [
    "Frost_day_df = Frost_day_df.dropna()"
   ]
  },
  {
   "cell_type": "code",
   "execution_count": 95,
   "metadata": {},
   "outputs": [],
   "source": [
    "Frost_day_df = Frost_day_df.reset_index(drop=True)"
   ]
  },
  {
   "cell_type": "code",
   "execution_count": 96,
   "metadata": {},
   "outputs": [
    {
     "data": {
      "image/png": "[encoded data removed]",
      "text/plain": [
       "<Figure size 432x288 with 1 Axes>"
      ]
     },
     "metadata": {
      "needs_background": "light"
     },
     "output_type": "display_data"
    }
   ],
   "source": [
    "plt.scatter(Frost_day_df.obs_year, Frost_day_df.last_freeze_dayofyear)\n",
    "plt.xlabel(\"year\")\n",
    "plt.ylabel(\"obs. day of the year\")\n",
    "plt.show()"
   ]
  },
  {
   "cell_type": "code",
   "execution_count": 97,
   "metadata": {},
   "outputs": [],
   "source": [
    "X = Frost_day_df.obs_year.values.reshape(-1, 1)\n",
    "y = Frost_day_df.last_freeze_dayofyear"
   ]
  },
  {
   "cell_type": "code",
   "execution_count": 98,
   "metadata": {},
   "outputs": [
    {
     "data": {
      "text/plain": [
       "LinearRegression()"
      ]
     },
     "execution_count": 98,
     "metadata": {},
     "output_type": "execute_result"
    }
   ],
   "source": [
    "model = LinearRegression()\n",
    "model.fit(X, y)"
   ]
  },
  {
   "cell_type": "code",
   "execution_count": 99,
   "metadata": {},
   "outputs": [
    {
     "name": "stdout",
     "output_type": "stream",
     "text": [
      "(146,)\n"
     ]
    }
   ],
   "source": [
    "y_pred = model.predict(X)\n",
    "print(y_pred.shape)"
   ]
  },
  {
   "cell_type": "code",
   "execution_count": 100,
   "metadata": {},
   "outputs": [
    {
     "data": {
      "image/png": "[encoded data removed]",
      "text/plain": [
       "<Figure size 432x288 with 1 Axes>"
      ]
     },
     "metadata": {
      "needs_background": "light"
     },
     "output_type": "display_data"
    }
   ],
   "source": [
    "plt.scatter(X, y)\n",
    "plt.plot(X, y_pred, color='red')\n",
    "plt.xlabel(\"Year\")\n",
    "plt.ylabel(\"Day of the Year\")\n",
    "plt.title(\"Last Day of Frost\")\n",
    "plt.xticks([2002, 2004, 2006, 2008, 2010, 2012, 2014, 2016, 2018, 2020, 2022])\n",
    "plt.show()"
   ]
  },
  {
   "cell_type": "code",
   "execution_count": 101,
   "metadata": {},
   "outputs": [
    {
     "name": "stdout",
     "output_type": "stream",
     "text": [
      "[0.38943131]\n"
     ]
    }
   ],
   "source": [
    "print(model.coef_)"
   ]
  },
  {
   "cell_type": "code",
   "execution_count": 102,
   "metadata": {},
   "outputs": [
    {
     "name": "stdout",
     "output_type": "stream",
     "text": [
      "County found!\n"
     ]
    }
   ],
   "source": [
    "# Ask user to enter county, keeps asking until valid county name is entered\n",
    "# Need to enter \"County\" after the county name\n",
    "countyList = [\"Hennepin County\", \"Carver County\", \"Anoka County\", \"Ramsey County\", \"Washington County\", \"Scott County\", \"Dakota County\"]\n",
    "\n",
    "a = True\n",
    "\n",
    "while a:\n",
    "\n",
    "    userInput = input(\"Enter county name to predict last freeze day for 2023. \\nHennepin County,\\nCarver County,\\nAnoka County,\\nRamsey County,\\nWashington County,\\nScott County, or\\nDakota County\")\n",
    "\n",
    "    if userInput not in countyList:\n",
    "        print(\"County not found, please enter correctly!\")\n",
    "    else:\n",
    "        print(\"County found!\")\n",
    "        a = False\n",
    "\n",
    "# Take userInput and remove all other counties from Frost_day_df\n",
    "if userInput == \"Hennepin County\":\n",
    "    Frost_day_df = Frost_day_df[Frost_day_df.county_name == userInput]\n",
    "elif userInput == \"Carver County\":\n",
    "    Frost_day_df = Frost_day_df[Frost_day_df.county_name == userInput]\n",
    "elif userInput == \"Anoka County\":\n",
    "    Frost_day_df = Frost_day_df[Frost_day_df.county_name == userInput]\n",
    "elif userInput == \"Ramsey County\":\n",
    "    Frost_day_df = Frost_day_df[Frost_day_df.county_name == userInput]\n",
    "elif userInput == \"Washington County\":\n",
    "    Frost_day_df = Frost_day_df[Frost_day_df.county_name == userInput]\n",
    "elif userInput == \"Scott County\":\n",
    "    Frost_day_df = Frost_day_df[Frost_day_df.county_name == userInput]\n",
    "else:\n",
    "     Frost_day_df = Frost_day_df[Frost_day_df.county_name == userInput]"
   ]
  },
  {
   "cell_type": "code",
   "execution_count": 103,
   "metadata": {},
   "outputs": [],
   "source": [
    "X = Frost_day_df.obs_year.values.reshape(-1, 1)\n",
    "y = Frost_day_df.last_freeze_dayofyear"
   ]
  },
  {
   "cell_type": "code",
   "execution_count": 104,
   "metadata": {},
   "outputs": [
    {
     "data": {
      "text/plain": [
       "LinearRegression()"
      ]
     },
     "execution_count": 104,
     "metadata": {},
     "output_type": "execute_result"
    }
   ],
   "source": [
    "model = LinearRegression()\n",
    "model.fit(X, y)"
   ]
  },
  {
   "cell_type": "code",
   "execution_count": 105,
   "metadata": {},
   "outputs": [
    {
     "name": "stdout",
     "output_type": "stream",
     "text": [
      "[0.02987013]\n"
     ]
    }
   ],
   "source": [
    "print(model.coef_)"
   ]
  },
  {
   "cell_type": "code",
   "execution_count": 106,
   "metadata": {},
   "outputs": [
    {
     "name": "stdout",
     "output_type": "stream",
     "text": [
      "Predicted last day of frost for Hennepin County in 2023 is [123.87012987]\n"
     ]
    }
   ],
   "source": [
    "# Run model for predicted year of 2023\n",
    "predicted_dayofyear = model.predict([[2022]])\n",
    "\n",
    "print(f\"Predicted last day of frost for {userInput} in 2023 is {predicted_dayofyear}\")"
   ]
  },
  {
   "cell_type": "code",
   "execution_count": 107,
   "metadata": {},
   "outputs": [],
   "source": [
    "Frost_day_df = county_yearly_df[[\"county_name\", \"obs_year\", \"last_freeze_dayofyear\"]].copy()"
   ]
  },
  {
   "cell_type": "code",
   "execution_count": 108,
   "metadata": {},
   "outputs": [],
   "source": [
    "Frost_day_df = Frost_day_df.dropna()"
   ]
  },
  {
   "cell_type": "code",
   "execution_count": 109,
   "metadata": {},
   "outputs": [],
   "source": [
    "Frost_day_df = Frost_day_df.reset_index(drop=True)"
   ]
  },
  {
   "cell_type": "code",
   "execution_count": 110,
   "metadata": {},
   "outputs": [
    {
     "name": "stdout",
     "output_type": "stream",
     "text": [
      "County found!\n"
     ]
    }
   ],
   "source": [
    "# Ask user to enter county, keeps asking until valid county name is entered\n",
    "# Need to enter \"County\" after the county name\n",
    "countyList = [\"Hennepin County\", \"Carver County\", \"Anoka County\", \"Ramsey County\", \"Washington County\", \"Scott County\", \"Dakota County\"]\n",
    "\n",
    "a = True\n",
    "\n",
    "while a:\n",
    "\n",
    "    userInput = input(\"Enter county name to predict last freeze day for 2023. \\nHennepin County,\\nCarver County,\\nAnoka County,\\nRamsey County,\\nWashington County,\\nScott County, or\\nDakota County\")\n",
    "\n",
    "    if userInput not in countyList:\n",
    "        print(\"County not found, please enter correctly!\")\n",
    "    else:\n",
    "        print(\"County found!\")\n",
    "        a = False\n",
    "\n",
    "# Take userInput and remove all other counties from Frost_day_df\n",
    "if userInput == \"Hennepin County\":\n",
    "    Frost_day_df = Frost_day_df[Frost_day_df.county_name == userInput]\n",
    "elif userInput == \"Carver County\":\n",
    "    Frost_day_df = Frost_day_df[Frost_day_df.county_name == userInput]\n",
    "elif userInput == \"Anoka County\":\n",
    "    Frost_day_df = Frost_day_df[Frost_day_df.county_name == userInput]\n",
    "elif userInput == \"Ramsey County\":\n",
    "    Frost_day_df = Frost_day_df[Frost_day_df.county_name == userInput]\n",
    "elif userInput == \"Washington County\":\n",
    "    Frost_day_df = Frost_day_df[Frost_day_df.county_name == userInput]\n",
    "elif userInput == \"Scott County\":\n",
    "    Frost_day_df = Frost_day_df[Frost_day_df.county_name == userInput]\n",
    "else:\n",
    "     Frost_day_df = Frost_day_df[Frost_day_df.county_name == userInput]"
   ]
  },
  {
   "cell_type": "code",
   "execution_count": 111,
   "metadata": {},
   "outputs": [],
   "source": [
    "X = Frost_day_df.obs_year.values.reshape(-1, 1)\n",
    "y = Frost_day_df.last_freeze_dayofyear"
   ]
  },
  {
   "cell_type": "code",
   "execution_count": 112,
   "metadata": {},
   "outputs": [
    {
     "data": {
      "text/plain": [
       "LinearRegression()"
      ]
     },
     "execution_count": 112,
     "metadata": {},
     "output_type": "execute_result"
    }
   ],
   "source": [
    "model = LinearRegression()\n",
    "model.fit(X, y)"
   ]
  },
  {
   "cell_type": "code",
   "execution_count": 113,
   "metadata": {},
   "outputs": [
    {
     "name": "stdout",
     "output_type": "stream",
     "text": [
      "[0.02987013]\n"
     ]
    }
   ],
   "source": [
    "print(model.coef_)"
   ]
  },
  {
   "cell_type": "code",
   "execution_count": 114,
   "metadata": {},
   "outputs": [
    {
     "name": "stdout",
     "output_type": "stream",
     "text": [
      "Predicted last day of frost for Hennepin County in 2023 is [123.9]\n"
     ]
    }
   ],
   "source": [
    "# Run model for predicted year of 2023\n",
    "predicted_dayofyear = model.predict([[2023]])\n",
    "\n",
    "print(f\"Predicted last day of frost for {userInput} in 2023 is {predicted_dayofyear}\")"
   ]
  },
  {
   "cell_type": "markdown",
   "metadata": {},
   "source": [
    "Proof of an accurate coefficient: 0.02987013\n",
    "\n",
    "First prediction: last day of frost for Hennepin County in 2022 is day 123.87012987\n",
    "\n",
    "Second prediction: last day of frost for Hennepin County in 2023 is day 123.9\n",
    "\n",
    "(previous value) + ((new year difference) * (year coefficient)) = (new value)\n",
    "\n",
    "123.87012987 + (1 * 0.02987013) = 123.9"
   ]
  }
 ],
 "metadata": {
  "kernelspec": {
   "display_name": "PythonData",
   "language": "python",
   "name": "pythondata"
  },
  "language_info": {
   "codemirror_mode": {
    "name": "ipython",
    "version": 3
   },
   "file_extension": ".py",
   "mimetype": "text/x-python",
   "name": "python",
   "nbconvert_exporter": "python",
   "pygments_lexer": "ipython3",
   "version": "3.7.11"
  }
 },
 "nbformat": 4,
 "nbformat_minor": 2
}
