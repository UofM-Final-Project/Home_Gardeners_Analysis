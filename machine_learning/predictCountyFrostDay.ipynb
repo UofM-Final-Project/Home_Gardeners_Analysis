{
 "cells": [
  {
   "cell_type": "code",
   "execution_count": 11,
   "metadata": {},
   "outputs": [],
   "source": [
    "# Import our dependencies\n",
    "from pathlib import Path\n",
    "import pandas as pd\n",
    "from sklearn.linear_model import LinearRegression\n",
    "from datetime import datetime\n"
   ]
  },
  {
   "cell_type": "code",
   "execution_count": 2,
   "metadata": {},
   "outputs": [],
   "source": [
    "# Reads in yearly metrics csv\n",
    "# *7 total counties\n",
    "File_path = \"../resources/county_yearly_metrics_data.csv\"\n",
    "county_yearly_df = pd.read_csv(File_path)"
   ]
  },
  {
   "cell_type": "code",
   "execution_count": 3,
   "metadata": {},
   "outputs": [],
   "source": [
    "Frost_day_df = county_yearly_df[[\"county_name\", \"obs_year\", \"last_freeze_dayofyear\"]].copy()"
   ]
  },
  {
   "cell_type": "code",
   "execution_count": 4,
   "metadata": {},
   "outputs": [],
   "source": [
    "Frost_day_df = Frost_day_df.dropna()"
   ]
  },
  {
   "cell_type": "code",
   "execution_count": 5,
   "metadata": {},
   "outputs": [],
   "source": [
    "Frost_day_df = Frost_day_df.reset_index(drop=True)"
   ]
  },
  {
   "cell_type": "code",
   "execution_count": 20,
   "metadata": {},
   "outputs": [
    {
     "name": "stdout",
     "output_type": "stream",
     "text": [
      "County not found, please enter correctly\n",
      "County not found, please enter correctly\n"
     ]
    }
   ],
   "source": [
    "# Ask user to enter county, keeps asking until valid county name is entered\n",
    "# Need to enter \"County\" after the county name\n",
    "countyList = [\"Hennepin County\", \"Carver County\", \"Anoka County\", \"Ramsey County\", \"Washington County\", \"Scott County\", \"Dakota County\"]\n",
    "\n",
    "a = True\n",
    "\n",
    "while a:\n",
    "\n",
    "    userInput = input(\"Enter county name to predict last freeze day for 2023. \\nHennepin County,\\nCarver County,\\nAnoka County,\\nRamsey County,\\nWashington County,\\nScott County, or\\nDakota County\")\n",
    "\n",
    "    if userInput not in countyList:\n",
    "        print(\"County not found, please enter correctly!\")\n",
    "    else:\n",
    "        print(\"County found!\")\n",
    "        a = False"
   ]
  },
  {
   "cell_type": "code",
   "execution_count": 7,
   "metadata": {},
   "outputs": [],
   "source": [
    "# Take userInput and remove all other counties from Frost_day_df\n",
    "if userInput == \"Hennepin County\":\n",
    "    Frost_day_df = Frost_day_df[Frost_day_df.county_name == userInput]\n",
    "elif userInput == \"Carver County\":\n",
    "    Frost_day_df = Frost_day_df[Frost_day_df.county_name == userInput]\n",
    "elif userInput == \"Anoka County\":\n",
    "    Frost_day_df = Frost_day_df[Frost_day_df.county_name == userInput]\n",
    "elif userInput == \"Ramsey County\":\n",
    "    Frost_day_df = Frost_day_df[Frost_day_df.county_name == userInput]\n",
    "elif userInput == \"Washington County\":\n",
    "    Frost_day_df = Frost_day_df[Frost_day_df.county_name == userInput]\n",
    "elif userInput == \"Scott County\":\n",
    "    Frost_day_df = Frost_day_df[Frost_day_df.county_name == userInput]\n",
    "else:\n",
    "     Frost_day_df = Frost_day_df[Frost_day_df.county_name == userInput]"
   ]
  },
  {
   "cell_type": "code",
   "execution_count": 8,
   "metadata": {},
   "outputs": [],
   "source": [
    "X = Frost_day_df.obs_year.values.reshape(-1, 1)\n",
    "y = Frost_day_df.last_freeze_dayofyear"
   ]
  },
  {
   "cell_type": "code",
   "execution_count": 9,
   "metadata": {},
   "outputs": [
    {
     "data": {
      "text/plain": [
       "LinearRegression()"
      ]
     },
     "execution_count": 9,
     "metadata": {},
     "output_type": "execute_result"
    }
   ],
   "source": [
    "model = LinearRegression()\n",
    "model.fit(X, y)"
   ]
  },
  {
   "cell_type": "code",
   "execution_count": 19,
   "metadata": {},
   "outputs": [
    {
     "name": "stdout",
     "output_type": "stream",
     "text": [
      "Predicted last day of frost for Hennepin County in 2023 is 05-03-2023\n"
     ]
    }
   ],
   "source": [
    "# Run model for predicted year of 2023\n",
    "predicted_dayofyear = model.predict([[2023]])\n",
    "\n",
    "# Convert to int to remove brackets and use as whole number\n",
    "dayofyearInt = int(predicted_dayofyear)\n",
    "\n",
    "# Take int version and convert to string to be converted to date format mm-dd-yyyy\n",
    "dayofyear = str(dayofyearInt)\n",
    "# adjusting day num\n",
    "dayofyear.rjust(3 + len(dayofyear), '0')\n",
    "  \n",
    "# Initialize year\n",
    "year = \"2023\"\n",
    "\n",
    "# converting to date\n",
    "dateConverted = datetime.strptime(year + \"-\" + dayofyear, \"%Y-%j\").strftime(\"%m-%d-%Y\")\n",
    "\n",
    "print(f\"Predicted last day of frost for {userInput} in 2023 is {dateConverted}\")"
   ]
  }
 ],
 "metadata": {
  "kernelspec": {
   "display_name": "PythonData",
   "language": "python",
   "name": "pythondata"
  },
  "language_info": {
   "codemirror_mode": {
    "name": "ipython",
    "version": 3
   },
   "file_extension": ".py",
   "mimetype": "text/x-python",
   "name": "python",
   "nbconvert_exporter": "python",
   "pygments_lexer": "ipython3",
   "version": "3.7.11"
  },
  "orig_nbformat": 4
 },
 "nbformat": 4,
 "nbformat_minor": 2
}
